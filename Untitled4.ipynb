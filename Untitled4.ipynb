{
 "cells": [
  {
   "cell_type": "markdown",
   "id": "9764cda7",
   "metadata": {},
   "source": [
    "# 10)smallest number of a stack"
   ]
  },
  {
   "cell_type": "code",
   "execution_count": 7,
   "id": "b9b05932",
   "metadata": {},
   "outputs": [
    {
     "data": {
      "text/plain": [
       "1"
      ]
     },
     "execution_count": 7,
     "metadata": {},
     "output_type": "execute_result"
    }
   ],
   "source": [
    "a=[10,56,89,1,20,38,5,99]\n",
    "sta=[]\n",
    "s_sta=[]\n",
    "for i in a:\n",
    "    if(len(sta) ==0 and len(s_sta)==0):\n",
    "        sta.append(i)\n",
    "        s_sta.append(i)\n",
    "    elif(i<s_sta[-1]):\n",
    "        sta.append(i)\n",
    "        s_sta.append(i)\n",
    "    else:\n",
    "        sta.append(i)\n",
    "s_sta[-1]"
   ]
  },
  {
   "cell_type": "markdown",
   "id": "7f60c36b",
   "metadata": {},
   "source": [
    "# 9) reverse a stack"
   ]
  },
  {
   "cell_type": "code",
   "execution_count": 10,
   "id": "3ee7eafb",
   "metadata": {},
   "outputs": [
    {
     "name": "stdout",
     "output_type": "stream",
     "text": [
      "Normal stack: [10, 56, 89, 1, 20, 38, 5, 99]\n",
      "reversed stack [99, 5, 38, 20, 1, 89, 56, 10]\n"
     ]
    }
   ],
   "source": [
    "k=[10,56,89,1,20,38,5,99]\n",
    "s1=[]\n",
    "s2=[]\n",
    "for i in k:\n",
    "    s1.append(i)\n",
    "print('Normal stack:',s1)\n",
    "while(len(s1)!=0):\n",
    "    s2.append(s1.pop())\n",
    "print('reversed stack',s2)"
   ]
  },
  {
   "cell_type": "markdown",
   "id": "b5924a48",
   "metadata": {},
   "source": [
    "# 8)Write a program to check if all the brackets are closed in a given code snippet."
   ]
  },
  {
   "cell_type": "code",
   "execution_count": 20,
   "id": "fbba69a0",
   "metadata": {},
   "outputs": [
    {
     "name": "stdout",
     "output_type": "stream",
     "text": [
      "ok\n"
     ]
    }
   ],
   "source": [
    "k='for i in range: (s[1]+s[2])'\n",
    "sa=[]\n",
    "for i in k:\n",
    "    if (i=='('):\n",
    "        sa.append(i)\n",
    "    elif(i==')'):\n",
    "        if(sa[-1]=='('):\n",
    "            sa.pop()\n",
    "        else:\n",
    "            print('wrong')\n",
    "    elif(i=='['):\n",
    "        sa.append(i)\n",
    "    elif(i==']'):\n",
    "        if(sa[-1]=='['):\n",
    "            sa.pop()\n",
    "        else:\n",
    "            print('wrong')\n",
    "    elif(i=='{'):\n",
    "        sa.append(i)\n",
    "    elif(i=='}'):\n",
    "        if(sa[-1]=='{'):\n",
    "            sa.pop()\n",
    "        else:\n",
    "            print('wrong')\n",
    "if(len(sa)==0):\n",
    "    print('ok')\n",
    "        "
   ]
  },
  {
   "cell_type": "markdown",
   "id": "03ec65a9",
   "metadata": {},
   "source": [
    "# 7)Write a program to convert prefix expression to infix expression."
   ]
  },
  {
   "cell_type": "code",
   "execution_count": 23,
   "id": "e27ba084",
   "metadata": {},
   "outputs": [
    {
     "name": "stdout",
     "output_type": "stream",
     "text": [
      "((A-(B/C))*((A/C)-C))\n"
     ]
    }
   ],
   "source": [
    "def prefixToInfix(prefix):\n",
    "    stack = []\n",
    "     \n",
    "    \n",
    "    i = len(prefix) - 1\n",
    "    while i >= 0:\n",
    "        if not isOperator(prefix[i]):\n",
    "             \n",
    "            \n",
    "            stack.append(prefix[i])\n",
    "            i -= 1\n",
    "        else:\n",
    "           \n",
    "            \n",
    "            str = \"(\" + stack.pop() + prefix[i] + stack.pop() + \")\"\n",
    "            stack.append(str)\n",
    "            i -= 1\n",
    "     \n",
    "    return stack.pop()\n",
    " \n",
    "def isOperator(c):\n",
    "    if c == \"*\" or c == \"+\" or c == \"-\" or c == \"/\" or c == \"^\" or c == \"(\" or c == \")\":\n",
    "        return True\n",
    "    else:\n",
    "        return False\n",
    " \n",
    "if __name__==\"__main__\":\n",
    "    str = \"*-A/BC-/ACC\"\n",
    "    print(prefixToInfix(str))"
   ]
  },
  {
   "cell_type": "markdown",
   "id": "e10dcc31",
   "metadata": {},
   "source": [
    "# 6)Read about infix, prefix, and postfix expressions. Write a program to convert postfix to prefix expression."
   ]
  },
  {
   "cell_type": "code",
   "execution_count": 27,
   "id": "3179ff42",
   "metadata": {},
   "outputs": [
    {
     "name": "stdout",
     "output_type": "stream",
     "text": [
      "ABC/-AK/L-*\n"
     ]
    }
   ],
   "source": [
    "s = \"*-A/BC-/AKL\"\n",
    " \n",
    "\n",
    "stack = []\n",
    " \n",
    "operators = set(['+', '-', '*', '/', '^'])\n",
    " \n",
    "\n",
    "s = s[::-1]\n",
    " \n",
    "\n",
    "for i in s:\n",
    " \n",
    "    \n",
    "    if i in operators:\n",
    " \n",
    "        \n",
    "        a = stack.pop()\n",
    "        b = stack.pop()\n",
    " \n",
    "       \n",
    "        temp = a+b+i\n",
    "        stack.append(temp)\n",
    " \n",
    "    \n",
    "    else:\n",
    "        stack.append(i)\n",
    " \n",
    "\n",
    "print(*stack)"
   ]
  },
  {
   "cell_type": "markdown",
   "id": "ae029240",
   "metadata": {},
   "source": [
    "# 5) Read about the Tower of Hanoi algorithm. Write a program to implement it.\n",
    "\n"
   ]
  },
  {
   "cell_type": "code",
   "execution_count": 28,
   "id": "ef88b7e7",
   "metadata": {},
   "outputs": [
    {
     "name": "stdout",
     "output_type": "stream",
     "text": [
      "Move disk 1 from rod A to rod B\n",
      "Move disk 2 from rod A to rod C\n",
      "Move disk 1 from rod B to rod C\n",
      "Move disk 3 from rod A to rod B\n",
      "Move disk 1 from rod C to rod A\n",
      "Move disk 2 from rod C to rod B\n",
      "Move disk 1 from rod A to rod B\n",
      "Move disk 4 from rod A to rod C\n",
      "Move disk 1 from rod B to rod C\n",
      "Move disk 2 from rod B to rod A\n",
      "Move disk 1 from rod C to rod A\n",
      "Move disk 3 from rod B to rod C\n",
      "Move disk 1 from rod A to rod B\n",
      "Move disk 2 from rod A to rod C\n",
      "Move disk 1 from rod B to rod C\n"
     ]
    }
   ],
   "source": [
    "def TowerOfHanoi(n , from_rod, to_rod, aux_rod):\n",
    "    if n == 1:\n",
    "        print(\"Move disk 1 from rod\",from_rod,\"to rod\",to_rod)\n",
    "        return\n",
    "    TowerOfHanoi(n-1, from_rod, aux_rod, to_rod)\n",
    "    print(\"Move disk\",n,\"from rod\",from_rod,\"to rod\",to_rod)\n",
    "    TowerOfHanoi(n-1, aux_rod, to_rod, from_rod)\n",
    "         \n",
    "\n",
    "n = 4\n",
    "TowerOfHanoi(n, 'A', 'C', 'B')"
   ]
  },
  {
   "cell_type": "markdown",
   "id": "5340bc73",
   "metadata": {},
   "source": [
    "# 4)Write a program to print the first non-repeated character from a string?"
   ]
  },
  {
   "cell_type": "code",
   "execution_count": 29,
   "id": "ce50ba85",
   "metadata": {},
   "outputs": [
    {
     "name": "stdout",
     "output_type": "stream",
     "text": [
      "First non-repeating character is p\n"
     ]
    }
   ],
   "source": [
    "NO_OF_CHARS = 256\n",
    " \n",
    "\n",
    "def getCharCountArray(string):\n",
    "    count = [0] * NO_OF_CHARS\n",
    "    for i in string:\n",
    "        count[ord(i)]+= 1\n",
    "    return count\n",
    "\n",
    "def firstNonRepeating(string):\n",
    "    count = getCharCountArray(string)\n",
    "    index = -1\n",
    "    k = 0\n",
    " \n",
    "    for i in string:\n",
    "        if count[ord(i)] == 1:\n",
    "            index = k\n",
    "            break\n",
    "        k += 1\n",
    " \n",
    "    return index\n",
    " \n",
    "\n",
    "string = \"AApPyAASh\"\n",
    "index = firstNonRepeating(string)\n",
    "if index == 1:\n",
    "    print (\"Either all characters are repeating or string is empty\")\n",
    "else:\n",
    "    print (\"First non-repeating character is \" + string[index])"
   ]
  },
  {
   "cell_type": "markdown",
   "id": "276abeaa",
   "metadata": {},
   "source": [
    "# 3) Write a program to check if two strings are a rotation of each other?"
   ]
  },
  {
   "cell_type": "code",
   "execution_count": 30,
   "id": "f51afe6e",
   "metadata": {},
   "outputs": [
    {
     "name": "stdout",
     "output_type": "stream",
     "text": [
      "Strings are not rotations of each other\n"
     ]
    }
   ],
   "source": [
    "def areRotations(string1, string2):\n",
    "    size1 = len(string1)\n",
    "    size2 = len(string2)\n",
    "    temp = ''\n",
    " \n",
    "    \n",
    "    if size1 != size2:\n",
    "        return 0\n",
    " \n",
    "\n",
    "    temp = string1 + string1\n",
    " \n",
    "    \n",
    "    if (temp.count(string2)> 0):\n",
    "        return 1\n",
    "    else:\n",
    "        return 0\n",
    " \n",
    "\n",
    "string1 = \"sharon\"\n",
    "string2 = \"shraon\"\n",
    " \n",
    "if areRotations(string1, string2):\n",
    "    print (\"Strings are rotations of each other\")\n",
    "else:\n",
    "    print (\"Strings are not rotations of each other\")"
   ]
  },
  {
   "cell_type": "markdown",
   "id": "1d4cc989",
   "metadata": {},
   "source": [
    "# 2)Write a program to reverse an array in place? In place means you cannot create a new array. You have to update the original array."
   ]
  },
  {
   "cell_type": "code",
   "execution_count": 31,
   "id": "0b972b15",
   "metadata": {},
   "outputs": [
    {
     "name": "stdout",
     "output_type": "stream",
     "text": [
      "[1, 2, 3, 4, 5, 6]\n",
      "Reversed list is :\n",
      "[6, 5, 4, 3, 2, 1]\n"
     ]
    }
   ],
   "source": [
    "def reversearray(A, start, end):\n",
    "    while start < end:\n",
    "        A[start], A[end] = A[end], A[start]\n",
    "        start += 1\n",
    "        end -= 1\n",
    " \n",
    "\n",
    "A = [1, 2, 3, 4, 5, 6]\n",
    "print(A)\n",
    "reversearray(A, 0, 5)\n",
    "print(\"Reversed list is :\")\n",
    "print(A)"
   ]
  },
  {
   "cell_type": "markdown",
   "id": "ab39d975",
   "metadata": {},
   "source": [
    "# 1)Write a program to find all pairs of an integer array whose sum is equal to a given number?"
   ]
  },
  {
   "cell_type": "code",
   "execution_count": 1,
   "id": "ebe50da0",
   "metadata": {},
   "outputs": [
    {
     "name": "stdout",
     "output_type": "stream",
     "text": [
      "Count of pairs is 0\n"
     ]
    }
   ],
   "source": [
    "def Pair(arr, n, sum):\n",
    "    count = 0  \n",
    "    for i in range(0, n):\n",
    "        for j in range(i + 1, n):\n",
    "            if arr[i] + arr[j] == sum:\n",
    "                count += 1\n",
    " \n",
    "    return count\n",
    " \n",
    " \n",
    "arr = [2, 10, 7, 8, 5]\n",
    "n = len(arr)\n",
    "sum = 8\n",
    "print(\"Count of pairs is\",\n",
    "      Pair(arr, n, sum))"
   ]
  },
  {
   "cell_type": "code",
   "execution_count": null,
   "id": "f02ebc05",
   "metadata": {},
   "outputs": [],
   "source": []
  }
 ],
 "metadata": {
  "kernelspec": {
   "display_name": "Python 3",
   "language": "python",
   "name": "python3"
  },
  "language_info": {
   "codemirror_mode": {
    "name": "ipython",
    "version": 3
   },
   "file_extension": ".py",
   "mimetype": "text/x-python",
   "name": "python",
   "nbconvert_exporter": "python",
   "pygments_lexer": "ipython3",
   "version": "3.8.8"
  }
 },
 "nbformat": 4,
 "nbformat_minor": 5
}
